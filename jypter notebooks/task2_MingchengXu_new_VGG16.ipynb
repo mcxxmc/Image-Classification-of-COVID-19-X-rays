{
 "cells": [
  {
   "cell_type": "markdown",
   "metadata": {
    "id": "DLBzMZOHednL",
    "nbpresent": {
     "id": "1d234e3f-af8b-4757-83f3-241b04b7a511"
    }
   },
   "source": [
    "# Class Challenge: Image Classification of COVID-19 X-rays\n",
    "# Task 2 [Total points: 30]"
   ]
  },
  {
   "cell_type": "markdown",
   "metadata": {
    "id": "U-CTANqfednM",
    "nbpresent": {
     "id": "b07b9992-b592-4871-9f9a-3b0ae5fa8b5f"
    }
   },
   "source": [
    "## Setup\n",
    "\n",
    "* This assignment involves the following packages: 'matplotlib', 'numpy', and 'sklearn'. \n",
    "\n",
    "* If you are using conda, use the following commands to install the above packages:<br>\n",
    "```shell\n",
    "conda install matplotlib\n",
    "conda install numpy\n",
    "conda install -c anaconda scikit-learn\n",
    "```\n",
    "\n",
    "* If you are using pip, use use the following commands to install the above packages: <br> \n",
    "```shell\n",
    "pip install matplotlib\n",
    "pip install numpy\n",
    "pip install sklearn\n",
    "```"
   ]
  },
  {
   "cell_type": "markdown",
   "metadata": {
    "id": "4diTzRP8ednM",
    "nbpresent": {
     "id": "5516f610-f00c-43c3-bf19-4cf7ab9c089f"
    }
   },
   "source": [
    "## Data\n",
    "\n",
    "Please download the data using the following link: [COVID-19](https://drive.google.com/file/d/1Y88tgqpQ1Pjko_7rntcPowOJs_QNOrJ-/view). \n",
    "\n",
    "* After downloading 'Covid_Data_GradientCrescent.zip', unzip the file and you should see the following data structure:\n",
    "\n",
    "\n",
    "|--all<br>\n",
    "|--------train<br>\n",
    "|--------test<br>\n",
    "|--two<br>\n",
    "|--------train<br>\n",
    "|--------test<br>\n",
    "\n",
    "\n",
    "* Put the 'all' folder, the 'two' folder and this python notebook in the **same directory** so that the following code can correctly locate the data.  \n",
    "\n"
   ]
  },
  {
   "cell_type": "code",
   "execution_count": 1,
   "metadata": {
    "colab": {
     "base_uri": "https://localhost:8080/"
    },
    "id": "V8bZxhFrehOb",
    "outputId": "09e8ce9e-d524-4935-d203-08ef706b97bd"
   },
   "outputs": [],
   "source": [
    "#from google.colab import drive\n",
    "#drive.mount('/content/gdrive')"
   ]
  },
  {
   "cell_type": "markdown",
   "metadata": {
    "id": "sCC5pQKnednM",
    "nbpresent": {
     "id": "66140980-2aa4-457f-b1df-74c10c234cc2"
    }
   },
   "source": [
    "## [20 points] Multi-class Classification"
   ]
  },
  {
   "cell_type": "code",
   "execution_count": 2,
   "metadata": {
    "colab": {
     "base_uri": "https://localhost:8080/",
     "height": 35
    },
    "id": "edm4Eg8fednM",
    "nbpresent": {
     "id": "5e05f980-3d14-4367-b3d1-664249145b13"
    },
    "outputId": "678149fe-1f87-44a5-99c1-dbfe6bafa661",
    "scrolled": true
   },
   "outputs": [
    {
     "data": {
      "text/plain": [
       "'2.1.0'"
      ]
     },
     "execution_count": 2,
     "metadata": {},
     "output_type": "execute_result"
    }
   ],
   "source": [
    "import os\n",
    "\n",
    "import tensorflow as tf\n",
    "import numpy as np\n",
    "import matplotlib.pyplot as plt\n",
    "from tensorflow.keras.preprocessing.image import ImageDataGenerator\n",
    "\n",
    "os.environ['OMP_NUM_THREADS'] = '1'\n",
    "os.environ['CUDA_VISIBLE_DEVICES'] = '-1'\n",
    "tf.__version__"
   ]
  },
  {
   "cell_type": "markdown",
   "metadata": {
    "id": "4PW00cU5ednN",
    "nbpresent": {
     "id": "66140980-2aa4-457f-b1df-74c10c234cc2"
    }
   },
   "source": [
    "#### Load Image Data"
   ]
  },
  {
   "cell_type": "code",
   "execution_count": 3,
   "metadata": {
    "id": "FupIpv7qednN",
    "nbpresent": {
     "id": "58317664-8da3-4283-b3e5-35721687e7ab"
    }
   },
   "outputs": [],
   "source": [
    "DATA_LIST = os.listdir('all/train')\n",
    "DATASET_PATH  = 'all/train'\n",
    "TEST_DIR =  'all/test'\n",
    "IMAGE_SIZE    = (224, 224)\n",
    "NUM_CLASSES   = len(DATA_LIST)\n",
    "BATCH_SIZE    = 10  # try reducing batch size or freeze more layers if your GPU runs out of memory\n",
    "NUM_EPOCHS    = 100\n",
    "LEARNING_RATE = 0.001 # start off with high rate first 0.001 and experiment with reducing it gradually "
   ]
  },
  {
   "cell_type": "markdown",
   "metadata": {
    "id": "vNZ5CnQAednN",
    "nbpresent": {
     "id": "66140980-2aa4-457f-b1df-74c10c234cc2"
    }
   },
   "source": [
    "#### Generate Training and Validation Batches"
   ]
  },
  {
   "cell_type": "code",
   "execution_count": 4,
   "metadata": {
    "colab": {
     "base_uri": "https://localhost:8080/"
    },
    "id": "Wrw561eTednN",
    "nbpresent": {
     "id": "71760e29-2b08-4259-93f1-ebe68cd74a6d"
    },
    "outputId": "25dbe032-ed33-412f-ca3f-f0cadde23731"
   },
   "outputs": [
    {
     "name": "stderr",
     "output_type": "stream",
     "text": [
      "C:\\Users\\17620\\Anaconda3\\lib\\site-packages\\keras_preprocessing\\image\\image_data_generator.py:341: UserWarning: This ImageDataGenerator specifies `zca_whitening` which overrides setting of`featurewise_std_normalization`.\n",
      "  warnings.warn('This ImageDataGenerator specifies '\n"
     ]
    },
    {
     "name": "stdout",
     "output_type": "stream",
     "text": [
      "Found 216 images belonging to 4 classes.\n",
      "Found 54 images belonging to 4 classes.\n"
     ]
    }
   ],
   "source": [
    "train_datagen = ImageDataGenerator(rescale=1./255,rotation_range=50,featurewise_center = True,\n",
    "                                   featurewise_std_normalization = True,width_shift_range=0.2,\n",
    "                                   height_shift_range=0.2,shear_range=0.25,zoom_range=0.1,\n",
    "                                   zca_whitening = True,channel_shift_range = 20,\n",
    "                                   horizontal_flip = True,vertical_flip = True,\n",
    "                                   validation_split = 0.2,fill_mode='constant')\n",
    "\n",
    "\n",
    "train_batches = train_datagen.flow_from_directory(DATASET_PATH,target_size=IMAGE_SIZE,\n",
    "                                                  shuffle=True,batch_size=BATCH_SIZE,\n",
    "                                                  subset = \"training\",seed=42,\n",
    "                                                  class_mode=\"categorical\")\n",
    "\n",
    "valid_batches = train_datagen.flow_from_directory(DATASET_PATH,target_size=IMAGE_SIZE,\n",
    "                                                  shuffle=True,batch_size=BATCH_SIZE,\n",
    "                                                  subset = \"validation\",\n",
    "                                                  seed=42,class_mode=\"categorical\")"
   ]
  },
  {
   "cell_type": "markdown",
   "metadata": {
    "id": "8lsgwdULednN",
    "nbpresent": {
     "id": "66140980-2aa4-457f-b1df-74c10c234cc2"
    }
   },
   "source": [
    "#### [10 points] Build Model\n",
    "Hint: Starting from a pre-trained model typically helps performance on a new task, e.g. starting with weights obtained by training on ImageNet. "
   ]
  },
  {
   "cell_type": "code",
   "execution_count": 5,
   "metadata": {
    "colab": {
     "base_uri": "https://localhost:8080/"
    },
    "id": "Zc1X7ZaYednN",
    "nbpresent": {
     "id": "5c52eeb2-1092-4d45-9e16-02219c82cb5e"
    },
    "outputId": "7881450f-3287-4e33-fe09-6fbb45afbe36"
   },
   "outputs": [
    {
     "name": "stdout",
     "output_type": "stream",
     "text": [
      "Model: \"task2\"\n",
      "_________________________________________________________________\n",
      "Layer (type)                 Output Shape              Param #   \n",
      "=================================================================\n",
      "vgg16 (Model)                (None, 7, 7, 512)         14714688  \n",
      "_________________________________________________________________\n",
      "conv_1 (Conv2D)              (None, 7, 7, 256)         1179904   \n",
      "_________________________________________________________________\n",
      "conv_2 (Conv2D)              (None, 7, 7, 256)         590080    \n",
      "_________________________________________________________________\n",
      "flatten_1 (Flatten)          (None, 12544)             0         \n",
      "_________________________________________________________________\n",
      "dropout_1 (Dropout)          (None, 12544)             0         \n",
      "_________________________________________________________________\n",
      "dense_feature (Dense)        (None, 512)               6423040   \n",
      "_________________________________________________________________\n",
      "dropout_2 (Dropout)          (None, 512)               0         \n",
      "_________________________________________________________________\n",
      "dense_output (Dense)         (None, 4)                 2052      \n",
      "=================================================================\n",
      "Total params: 22,909,764\n",
      "Trainable params: 8,195,076\n",
      "Non-trainable params: 14,714,688\n",
      "_________________________________________________________________\n"
     ]
    }
   ],
   "source": [
    "#raise NotImplementedError(\"Build your model based on an architecture of your choice \"\n",
    "#                          \"A sample model summary is shown below\")\n",
    "vgg16 = tf.keras.applications.VGG16(include_top=False, weights='imagenet',input_shape=(224, 224, 3), classes=512) \n",
    "vgg16.trainable = False\n",
    "conv_1 = tf.keras.layers.Conv2D(filters=256, kernel_size=(3,3), padding=\"same\", activation=\"relu\", name='conv_1')\n",
    "conv_2 = tf.keras.layers.Conv2D(filters=256, kernel_size=(3,3), padding=\"same\", activation=\"relu\", name='conv_2')\n",
    "flatten_1 = tf.keras.layers.Flatten(name='flatten_1')\n",
    "dropout_1 = tf.keras.layers.Dropout(0.25, name='dropout_1')\n",
    "dense_feature = tf.keras.layers.Dense(512, activation='relu',name='dense_feature')\n",
    "dropout_2 = tf.keras.layers.Dropout(0.25, name='dropout_2')\n",
    "dense_output = tf.keras.layers.Dense(4, name = 'dense_output', activation='softmax') # softmax for multiclass; 4 classes in total\n",
    "    \n",
    "model = tf.keras.Sequential([vgg16,conv_1,conv_2,\n",
    "                             flatten_1,dropout_1,dense_feature,dropout_2,dense_output],name='task2')\n",
    "model.build(input_shape=(None, 224, 224, 3))\n",
    "model.summary()"
   ]
  },
  {
   "cell_type": "markdown",
   "metadata": {
    "id": "sdpKDzT3ednN",
    "nbpresent": {
     "id": "66140980-2aa4-457f-b1df-74c10c234cc2"
    }
   },
   "source": [
    "#### [5 points] Train Model"
   ]
  },
  {
   "cell_type": "code",
   "execution_count": 6,
   "metadata": {
    "colab": {
     "base_uri": "https://localhost:8080/"
    },
    "id": "l_-0VerSednN",
    "nbpresent": {
     "id": "cdb90d24-6a23-4969-8138-f37e7050062d"
    },
    "outputId": "2e14cd86-693a-4ee1-f8b9-a62e2c79526d"
   },
   "outputs": [
    {
     "name": "stdout",
     "output_type": "stream",
     "text": [
      "22\n",
      "6\n",
      "21\n",
      "5\n",
      "WARNING:tensorflow:From <ipython-input-6-7243336c6192>:27: Model.fit_generator (from tensorflow.python.keras.engine.training) is deprecated and will be removed in a future version.\n",
      "Instructions for updating:\n",
      "Please use Model.fit, which supports generators.\n",
      "WARNING:tensorflow:sample_weight modes were coerced from\n",
      "  ...\n",
      "    to  \n",
      "  ['...']\n"
     ]
    },
    {
     "name": "stderr",
     "output_type": "stream",
     "text": [
      "C:\\Users\\17620\\Anaconda3\\lib\\site-packages\\keras_preprocessing\\image\\image_data_generator.py:716: UserWarning: This ImageDataGenerator specifies `featurewise_center`, but it hasn't been fit on any training data. Fit it first by calling `.fit(numpy_data)`.\n",
      "  warnings.warn('This ImageDataGenerator specifies '\n",
      "C:\\Users\\17620\\Anaconda3\\lib\\site-packages\\keras_preprocessing\\image\\image_data_generator.py:735: UserWarning: This ImageDataGenerator specifies `zca_whitening`, but it hasn't been fit on any training data. Fit it first by calling `.fit(numpy_data)`.\n",
      "  warnings.warn('This ImageDataGenerator specifies '\n"
     ]
    },
    {
     "name": "stdout",
     "output_type": "stream",
     "text": [
      "WARNING:tensorflow:sample_weight modes were coerced from\n",
      "  ...\n",
      "    to  \n",
      "  ['...']\n",
      "Train for 21 steps, validate for 5 steps\n",
      "Epoch 1/100\n"
     ]
    },
    {
     "name": "stderr",
     "output_type": "stream",
     "text": [
      "C:\\Users\\17620\\Anaconda3\\lib\\site-packages\\keras_preprocessing\\image\\image_data_generator.py:716: UserWarning: This ImageDataGenerator specifies `featurewise_center`, but it hasn't been fit on any training data. Fit it first by calling `.fit(numpy_data)`.\n",
      "  warnings.warn('This ImageDataGenerator specifies '\n",
      "C:\\Users\\17620\\Anaconda3\\lib\\site-packages\\keras_preprocessing\\image\\image_data_generator.py:735: UserWarning: This ImageDataGenerator specifies `zca_whitening`, but it hasn't been fit on any training data. Fit it first by calling `.fit(numpy_data)`.\n",
      "  warnings.warn('This ImageDataGenerator specifies '\n"
     ]
    },
    {
     "name": "stdout",
     "output_type": "stream",
     "text": [
      "21/21 [==============================] - 26s 1s/step - loss: 1.9534 - accuracy: 0.2476 - val_loss: 1.3721 - val_accuracy: 0.3600\n",
      "Epoch 2/100\n",
      "21/21 [==============================] - 25s 1s/step - loss: 1.3827 - accuracy: 0.2621 - val_loss: 1.3060 - val_accuracy: 0.5000\n",
      "Epoch 3/100\n",
      "21/21 [==============================] - 24s 1s/step - loss: 1.3163 - accuracy: 0.3738 - val_loss: 1.1686 - val_accuracy: 0.4800\n",
      "Epoch 4/100\n",
      "21/21 [==============================] - 24s 1s/step - loss: 1.1663 - accuracy: 0.4175 - val_loss: 1.0590 - val_accuracy: 0.4800\n",
      "Epoch 5/100\n",
      "21/21 [==============================] - 23s 1s/step - loss: 1.1890 - accuracy: 0.4515 - val_loss: 1.1542 - val_accuracy: 0.3800\n",
      "Epoch 6/100\n",
      "21/21 [==============================] - 23s 1s/step - loss: 1.1992 - accuracy: 0.4612 - val_loss: 1.0154 - val_accuracy: 0.5000\n",
      "Epoch 7/100\n",
      "21/21 [==============================] - 23s 1s/step - loss: 1.1006 - accuracy: 0.4369 - val_loss: 1.0833 - val_accuracy: 0.4800\n",
      "Epoch 8/100\n",
      "21/21 [==============================] - 23s 1s/step - loss: 1.1188 - accuracy: 0.4757 - val_loss: 1.1972 - val_accuracy: 0.4800\n",
      "Epoch 9/100\n",
      "21/21 [==============================] - 23s 1s/step - loss: 1.0361 - accuracy: 0.5243 - val_loss: 0.8713 - val_accuracy: 0.5000\n",
      "Epoch 10/100\n",
      "21/21 [==============================] - 23s 1s/step - loss: 1.0106 - accuracy: 0.5631 - val_loss: 1.1261 - val_accuracy: 0.5400\n",
      "Epoch 11/100\n",
      "21/21 [==============================] - 23s 1s/step - loss: 1.0093 - accuracy: 0.5437 - val_loss: 1.0099 - val_accuracy: 0.5400\n",
      "Epoch 12/100\n",
      "21/21 [==============================] - 23s 1s/step - loss: 1.0864 - accuracy: 0.5049 - val_loss: 1.0904 - val_accuracy: 0.6200\n",
      "Epoch 13/100\n",
      "21/21 [==============================] - 23s 1s/step - loss: 1.0470 - accuracy: 0.5728 - val_loss: 1.0247 - val_accuracy: 0.4600\n",
      "Epoch 14/100\n",
      "21/21 [==============================] - 23s 1s/step - loss: 0.8464 - accuracy: 0.6019 - val_loss: 0.7936 - val_accuracy: 0.6200\n",
      "Epoch 15/100\n",
      "21/21 [==============================] - 23s 1s/step - loss: 0.8458 - accuracy: 0.5777 - val_loss: 0.7913 - val_accuracy: 0.6000\n",
      "Epoch 16/100\n",
      "21/21 [==============================] - 23s 1s/step - loss: 0.8034 - accuracy: 0.6359 - val_loss: 0.7858 - val_accuracy: 0.6400\n",
      "Epoch 17/100\n",
      "21/21 [==============================] - 23s 1s/step - loss: 0.9169 - accuracy: 0.5728 - val_loss: 0.7881 - val_accuracy: 0.6400\n",
      "Epoch 18/100\n",
      "21/21 [==============================] - 23s 1s/step - loss: 0.8184 - accuracy: 0.6262 - val_loss: 0.7649 - val_accuracy: 0.6000\n",
      "Epoch 19/100\n",
      "21/21 [==============================] - 23s 1s/step - loss: 0.9271 - accuracy: 0.6019 - val_loss: 0.7267 - val_accuracy: 0.6800\n",
      "Epoch 20/100\n",
      "21/21 [==============================] - 23s 1s/step - loss: 0.8334 - accuracy: 0.6429 - val_loss: 0.8550 - val_accuracy: 0.6200\n",
      "Epoch 21/100\n",
      "21/21 [==============================] - 23s 1s/step - loss: 0.7785 - accuracy: 0.6505 - val_loss: 0.9366 - val_accuracy: 0.5600\n",
      "Epoch 22/100\n",
      "21/21 [==============================] - 23s 1s/step - loss: 0.8993 - accuracy: 0.6117 - val_loss: 0.8010 - val_accuracy: 0.5800\n",
      "Epoch 23/100\n",
      "21/21 [==============================] - 23s 1s/step - loss: 0.8484 - accuracy: 0.5971 - val_loss: 0.8913 - val_accuracy: 0.6200\n",
      "Epoch 24/100\n",
      "21/21 [==============================] - 23s 1s/step - loss: 0.8723 - accuracy: 0.6165 - val_loss: 0.6980 - val_accuracy: 0.6200\n",
      "Epoch 25/100\n",
      "21/21 [==============================] - 23s 1s/step - loss: 0.8488 - accuracy: 0.6505 - val_loss: 1.0371 - val_accuracy: 0.5200\n",
      "Epoch 26/100\n",
      "21/21 [==============================] - 23s 1s/step - loss: 0.8658 - accuracy: 0.6408 - val_loss: 0.6686 - val_accuracy: 0.7000\n",
      "Epoch 27/100\n",
      "21/21 [==============================] - 23s 1s/step - loss: 0.7598 - accuracy: 0.6748 - val_loss: 0.9964 - val_accuracy: 0.6200\n",
      "Epoch 28/100\n",
      "21/21 [==============================] - 23s 1s/step - loss: 0.8373 - accuracy: 0.6117 - val_loss: 0.8483 - val_accuracy: 0.6000\n",
      "Epoch 29/100\n",
      "21/21 [==============================] - 23s 1s/step - loss: 0.7415 - accuracy: 0.6602 - val_loss: 0.6628 - val_accuracy: 0.6400\n",
      "Epoch 30/100\n",
      "21/21 [==============================] - 23s 1s/step - loss: 0.7434 - accuracy: 0.6359 - val_loss: 0.7114 - val_accuracy: 0.6000\n",
      "Epoch 31/100\n",
      "21/21 [==============================] - 23s 1s/step - loss: 0.7983 - accuracy: 0.6602 - val_loss: 0.6238 - val_accuracy: 0.7600\n",
      "Epoch 32/100\n",
      "21/21 [==============================] - 23s 1s/step - loss: 0.7205 - accuracy: 0.6650 - val_loss: 0.8006 - val_accuracy: 0.6000\n",
      "Epoch 33/100\n",
      "21/21 [==============================] - 23s 1s/step - loss: 0.8340 - accuracy: 0.6117 - val_loss: 0.8541 - val_accuracy: 0.5400\n",
      "Epoch 34/100\n",
      "21/21 [==============================] - 23s 1s/step - loss: 0.7223 - accuracy: 0.6845 - val_loss: 0.6258 - val_accuracy: 0.7000\n",
      "Epoch 35/100\n",
      "21/21 [==============================] - 23s 1s/step - loss: 0.7280 - accuracy: 0.6311 - val_loss: 0.7341 - val_accuracy: 0.6000\n",
      "Epoch 36/100\n",
      "21/21 [==============================] - 24s 1s/step - loss: 0.6658 - accuracy: 0.7136 - val_loss: 0.8150 - val_accuracy: 0.7200\n",
      "Epoch 37/100\n",
      "21/21 [==============================] - 24s 1s/step - loss: 0.7950 - accuracy: 0.6524 - val_loss: 0.9859 - val_accuracy: 0.6400\n",
      "Epoch 38/100\n",
      "21/21 [==============================] - 23s 1s/step - loss: 0.7335 - accuracy: 0.6714 - val_loss: 0.5944 - val_accuracy: 0.7000\n",
      "Epoch 39/100\n",
      "21/21 [==============================] - 23s 1s/step - loss: 0.7246 - accuracy: 0.6748 - val_loss: 0.7247 - val_accuracy: 0.7400\n",
      "Epoch 40/100\n",
      "21/21 [==============================] - 23s 1s/step - loss: 0.6039 - accuracy: 0.7087 - val_loss: 0.7176 - val_accuracy: 0.7000\n",
      "Epoch 41/100\n",
      "21/21 [==============================] - 23s 1s/step - loss: 0.7237 - accuracy: 0.6699 - val_loss: 0.6610 - val_accuracy: 0.6600\n",
      "Epoch 42/100\n",
      "21/21 [==============================] - 23s 1s/step - loss: 0.6699 - accuracy: 0.6699 - val_loss: 0.5470 - val_accuracy: 0.7000\n",
      "Epoch 43/100\n",
      "21/21 [==============================] - 23s 1s/step - loss: 0.5917 - accuracy: 0.7087 - val_loss: 0.6607 - val_accuracy: 0.6400\n",
      "Epoch 44/100\n",
      "21/21 [==============================] - 23s 1s/step - loss: 0.6621 - accuracy: 0.7136 - val_loss: 0.7813 - val_accuracy: 0.6800\n",
      "Epoch 45/100\n",
      "21/21 [==============================] - 23s 1s/step - loss: 0.6623 - accuracy: 0.7087 - val_loss: 0.7202 - val_accuracy: 0.7200\n",
      "Epoch 46/100\n",
      "21/21 [==============================] - 23s 1s/step - loss: 0.5745 - accuracy: 0.7379 - val_loss: 0.7129 - val_accuracy: 0.6400\n",
      "Epoch 47/100\n",
      "21/21 [==============================] - 23s 1s/step - loss: 0.7298 - accuracy: 0.6748 - val_loss: 0.6679 - val_accuracy: 0.5800\n",
      "Epoch 48/100\n",
      "21/21 [==============================] - 23s 1s/step - loss: 0.7061 - accuracy: 0.6714 - val_loss: 0.5996 - val_accuracy: 0.7000\n",
      "Epoch 49/100\n",
      "21/21 [==============================] - 23s 1s/step - loss: 0.6050 - accuracy: 0.6905 - val_loss: 0.7634 - val_accuracy: 0.6000\n",
      "Epoch 50/100\n",
      "21/21 [==============================] - 23s 1s/step - loss: 0.6506 - accuracy: 0.7039 - val_loss: 0.4763 - val_accuracy: 0.7600\n",
      "Epoch 51/100\n",
      "21/21 [==============================] - 23s 1s/step - loss: 0.5834 - accuracy: 0.7427 - val_loss: 0.8811 - val_accuracy: 0.5800\n",
      "Epoch 52/100\n",
      "21/21 [==============================] - 23s 1s/step - loss: 0.6156 - accuracy: 0.7184 - val_loss: 0.7796 - val_accuracy: 0.6400\n",
      "Epoch 53/100\n",
      "21/21 [==============================] - 23s 1s/step - loss: 0.5953 - accuracy: 0.7282 - val_loss: 0.7728 - val_accuracy: 0.7200\n",
      "Epoch 54/100\n",
      "21/21 [==============================] - 24s 1s/step - loss: 0.6383 - accuracy: 0.7000 - val_loss: 0.7044 - val_accuracy: 0.7000\n",
      "Epoch 55/100\n",
      "21/21 [==============================] - 23s 1s/step - loss: 0.6515 - accuracy: 0.6619 - val_loss: 0.6881 - val_accuracy: 0.7000\n",
      "Epoch 56/100\n",
      "21/21 [==============================] - 23s 1s/step - loss: 0.6895 - accuracy: 0.7184 - val_loss: 0.7891 - val_accuracy: 0.6800\n",
      "Epoch 57/100\n",
      "21/21 [==============================] - 23s 1s/step - loss: 0.7793 - accuracy: 0.6456 - val_loss: 0.6439 - val_accuracy: 0.6200\n",
      "Epoch 58/100\n",
      "21/21 [==============================] - 23s 1s/step - loss: 0.5985 - accuracy: 0.7282 - val_loss: 0.7988 - val_accuracy: 0.6200\n",
      "Epoch 59/100\n",
      "21/21 [==============================] - 23s 1s/step - loss: 0.5966 - accuracy: 0.7427 - val_loss: 0.6857 - val_accuracy: 0.6000\n",
      "Epoch 60/100\n",
      "21/21 [==============================] - 24s 1s/step - loss: 0.5630 - accuracy: 0.7233 - val_loss: 0.4899 - val_accuracy: 0.7200\n",
      "Epoch 61/100\n",
      "21/21 [==============================] - 23s 1s/step - loss: 0.6585 - accuracy: 0.6893 - val_loss: 0.8281 - val_accuracy: 0.6600\n",
      "Epoch 62/100\n",
      "21/21 [==============================] - 23s 1s/step - loss: 0.5791 - accuracy: 0.7282 - val_loss: 0.5053 - val_accuracy: 0.8200\n",
      "Epoch 63/100\n",
      "21/21 [==============================] - 23s 1s/step - loss: 0.6557 - accuracy: 0.6602 - val_loss: 0.5338 - val_accuracy: 0.6600\n",
      "Epoch 64/100\n",
      "21/21 [==============================] - 23s 1s/step - loss: 0.6227 - accuracy: 0.7330 - val_loss: 0.4679 - val_accuracy: 0.7600\n",
      "Epoch 65/100\n",
      "21/21 [==============================] - 24s 1s/step - loss: 0.6429 - accuracy: 0.7136 - val_loss: 0.5824 - val_accuracy: 0.7400\n",
      "Epoch 66/100\n",
      "21/21 [==============================] - 23s 1s/step - loss: 0.6452 - accuracy: 0.6990 - val_loss: 0.7100 - val_accuracy: 0.6400\n",
      "Epoch 67/100\n",
      "21/21 [==============================] - 23s 1s/step - loss: 0.7118 - accuracy: 0.6796 - val_loss: 0.5892 - val_accuracy: 0.6800\n",
      "Epoch 68/100\n",
      "21/21 [==============================] - 23s 1s/step - loss: 0.6799 - accuracy: 0.7039 - val_loss: 0.7749 - val_accuracy: 0.5600\n",
      "Epoch 69/100\n",
      "21/21 [==============================] - 23s 1s/step - loss: 0.6016 - accuracy: 0.7087 - val_loss: 0.5857 - val_accuracy: 0.7000\n",
      "Epoch 70/100\n",
      "21/21 [==============================] - 23s 1s/step - loss: 0.5586 - accuracy: 0.7524 - val_loss: 0.8763 - val_accuracy: 0.6600\n",
      "Epoch 71/100\n",
      "21/21 [==============================] - 23s 1s/step - loss: 0.5557 - accuracy: 0.7282 - val_loss: 0.6306 - val_accuracy: 0.7200\n",
      "Epoch 72/100\n",
      "21/21 [==============================] - 23s 1s/step - loss: 0.5497 - accuracy: 0.7767 - val_loss: 0.4972 - val_accuracy: 0.7000\n",
      "Epoch 73/100\n",
      "21/21 [==============================] - 23s 1s/step - loss: 0.6607 - accuracy: 0.6990 - val_loss: 0.6870 - val_accuracy: 0.6600\n",
      "Epoch 74/100\n",
      "21/21 [==============================] - 23s 1s/step - loss: 0.6252 - accuracy: 0.6893 - val_loss: 0.8267 - val_accuracy: 0.6200\n",
      "Epoch 75/100\n",
      "21/21 [==============================] - 23s 1s/step - loss: 0.5602 - accuracy: 0.7427 - val_loss: 0.5628 - val_accuracy: 0.7400\n",
      "Epoch 76/100\n",
      "21/21 [==============================] - 23s 1s/step - loss: 0.6210 - accuracy: 0.7087 - val_loss: 0.7228 - val_accuracy: 0.6200\n",
      "Epoch 77/100\n",
      "21/21 [==============================] - 23s 1s/step - loss: 0.5844 - accuracy: 0.7427 - val_loss: 0.6242 - val_accuracy: 0.6800\n",
      "Epoch 78/100\n",
      "21/21 [==============================] - 23s 1s/step - loss: 0.6426 - accuracy: 0.7330 - val_loss: 0.7854 - val_accuracy: 0.6000\n",
      "Epoch 79/100\n",
      "21/21 [==============================] - 23s 1s/step - loss: 0.6131 - accuracy: 0.7190 - val_loss: 0.6069 - val_accuracy: 0.7600\n",
      "Epoch 80/100\n",
      "21/21 [==============================] - 23s 1s/step - loss: 0.6247 - accuracy: 0.7524 - val_loss: 0.6954 - val_accuracy: 0.5800\n",
      "Epoch 81/100\n",
      "21/21 [==============================] - 24s 1s/step - loss: 0.6087 - accuracy: 0.7143 - val_loss: 0.5183 - val_accuracy: 0.7200\n",
      "Epoch 82/100\n",
      "21/21 [==============================] - 23s 1s/step - loss: 0.6021 - accuracy: 0.7379 - val_loss: 0.5797 - val_accuracy: 0.6600\n",
      "Epoch 83/100\n",
      "21/21 [==============================] - 23s 1s/step - loss: 0.5597 - accuracy: 0.7621 - val_loss: 1.0276 - val_accuracy: 0.5600\n",
      "Epoch 84/100\n",
      "21/21 [==============================] - 23s 1s/step - loss: 0.5692 - accuracy: 0.7718 - val_loss: 0.7679 - val_accuracy: 0.6000\n",
      "Epoch 85/100\n",
      "21/21 [==============================] - 23s 1s/step - loss: 0.5747 - accuracy: 0.7524 - val_loss: 0.6482 - val_accuracy: 0.6800\n",
      "Epoch 86/100\n",
      "21/21 [==============================] - 23s 1s/step - loss: 0.5159 - accuracy: 0.7718 - val_loss: 0.9030 - val_accuracy: 0.6000\n",
      "Epoch 87/100\n",
      "21/21 [==============================] - 23s 1s/step - loss: 0.5120 - accuracy: 0.7476 - val_loss: 0.4957 - val_accuracy: 0.7600\n",
      "Epoch 88/100\n",
      "21/21 [==============================] - 23s 1s/step - loss: 0.4817 - accuracy: 0.7718 - val_loss: 0.7515 - val_accuracy: 0.6600\n",
      "Epoch 89/100\n",
      "21/21 [==============================] - 23s 1s/step - loss: 0.6840 - accuracy: 0.6650 - val_loss: 0.7581 - val_accuracy: 0.6800\n",
      "Epoch 90/100\n",
      "21/21 [==============================] - 23s 1s/step - loss: 0.6434 - accuracy: 0.6456 - val_loss: 0.6124 - val_accuracy: 0.7600\n",
      "Epoch 91/100\n",
      "21/21 [==============================] - 23s 1s/step - loss: 0.5925 - accuracy: 0.6942 - val_loss: 0.6361 - val_accuracy: 0.6200\n",
      "Epoch 92/100\n",
      "21/21 [==============================] - 23s 1s/step - loss: 0.5774 - accuracy: 0.6942 - val_loss: 0.7863 - val_accuracy: 0.6600\n",
      "Epoch 93/100\n",
      "21/21 [==============================] - 23s 1s/step - loss: 0.5124 - accuracy: 0.7718 - val_loss: 0.7056 - val_accuracy: 0.6800\n",
      "Epoch 94/100\n",
      "21/21 [==============================] - 23s 1s/step - loss: 0.5847 - accuracy: 0.7476 - val_loss: 0.5104 - val_accuracy: 0.7600\n",
      "Epoch 95/100\n",
      "21/21 [==============================] - 23s 1s/step - loss: 0.5094 - accuracy: 0.7767 - val_loss: 0.6132 - val_accuracy: 0.5800\n",
      "Epoch 96/100\n",
      "21/21 [==============================] - 23s 1s/step - loss: 0.5415 - accuracy: 0.7427 - val_loss: 0.6869 - val_accuracy: 0.6800\n",
      "Epoch 97/100\n",
      "21/21 [==============================] - 23s 1s/step - loss: 0.5269 - accuracy: 0.7379 - val_loss: 0.5682 - val_accuracy: 0.6400\n",
      "Epoch 98/100\n",
      "21/21 [==============================] - 23s 1s/step - loss: 0.5654 - accuracy: 0.7476 - val_loss: 0.4514 - val_accuracy: 0.7600\n",
      "Epoch 99/100\n",
      "21/21 [==============================] - 23s 1s/step - loss: 0.5648 - accuracy: 0.7330 - val_loss: 0.6068 - val_accuracy: 0.7000\n",
      "Epoch 100/100\n",
      "21/21 [==============================] - 23s 1s/step - loss: 0.5800 - accuracy: 0.7524 - val_loss: 0.5141 - val_accuracy: 0.7600\n"
     ]
    }
   ],
   "source": [
    "# change the learning rate\n",
    "lr_schedule = tf.keras.optimizers.schedules.ExponentialDecay(\n",
    "    initial_learning_rate=LEARNING_RATE,\n",
    "    decay_steps=10000,\n",
    "    decay_rate=0.96)\n",
    "\n",
    "# early stopping\n",
    "early_stopping = tf.keras.callbacks.EarlyStopping(monitor='val_accuracy', mode='max',patience=50, verbose=2,restore_best_weights=False)\n",
    "\n",
    "# compile\n",
    "model.compile(optimizer=tf.keras.optimizers.Adam(learning_rate=lr_schedule),\n",
    "                loss='categorical_crossentropy',\n",
    "                metrics=['accuracy'])\n",
    "\n",
    "#FIT MODEL\n",
    "print(len(train_batches))\n",
    "print(len(valid_batches))\n",
    "\n",
    "STEP_SIZE_TRAIN=train_batches.n//train_batches.batch_size\n",
    "STEP_SIZE_VALID=valid_batches.n//valid_batches.batch_size\n",
    "\n",
    "print(STEP_SIZE_TRAIN)\n",
    "print(STEP_SIZE_VALID)\n",
    "\n",
    "#raise NotImplementedError(\"Use the model.fit function to train your network\")\n",
    "history = model.fit_generator(generator=train_batches,epochs=NUM_EPOCHS, validation_data=valid_batches,\n",
    "                   steps_per_epoch=STEP_SIZE_TRAIN, validation_steps=STEP_SIZE_VALID,shuffle=True,callbacks=[early_stopping])"
   ]
  },
  {
   "cell_type": "markdown",
   "metadata": {
    "id": "3P9LGQ_HednN",
    "nbpresent": {
     "id": "66140980-2aa4-457f-b1df-74c10c234cc2"
    }
   },
   "source": [
    "#### [5 points] Plot Accuracy and Loss During Training"
   ]
  },
  {
   "cell_type": "code",
   "execution_count": 7,
   "metadata": {
    "colab": {
     "base_uri": "https://localhost:8080/",
     "height": 541
    },
    "id": "_UhNZf54ednN",
    "nbpresent": {
     "id": "ff342098-784a-4e20-ac34-b74ca8ebe839"
    },
    "outputId": "6a79adee-68c5-4c82-89b6-6c2ccadf1328"
   },
   "outputs": [
    {
     "data": {
      "image/png": "[encoded data removed]",
      "text/plain": [
       "<Figure size 432x288 with 1 Axes>"
      ]
     },
     "metadata": {
      "needs_background": "light"
     },
     "output_type": "display_data"
    },
    {
     "data": {
      "image/png": "[encoded data removed]",
      "text/plain": [
       "<Figure size 432x288 with 1 Axes>"
      ]
     },
     "metadata": {
      "needs_background": "light"
     },
     "output_type": "display_data"
    }
   ],
   "source": [
    "import matplotlib.pyplot as plt\n",
    "\n",
    "#raise NotImplementedError(\"Plot the accuracy and the loss during training\")\n",
    "\n",
    "plt.plot(history.history['accuracy'], label='Train_acc')\n",
    "plt.plot(history.history['val_accuracy'], label = 'val_acc')\n",
    "plt.xlabel('Accuracy over 100 Epochs')\n",
    "plt.legend(loc='lower right')\n",
    "plt.grid(True)\n",
    "plt.show()\n",
    "\n",
    "plt.plot(history.history['loss'], label='Train_loss')\n",
    "plt.plot(history.history['val_loss'], label = 'val_loss')\n",
    "plt.xlabel('Loss over 100 Epochs')\n",
    "plt.legend(loc='upper right')\n",
    "plt.grid(True)\n",
    "plt.show()"
   ]
  },
  {
   "cell_type": "markdown",
   "metadata": {
    "id": "9JxyOOiYednN",
    "nbpresent": {
     "id": "66140980-2aa4-457f-b1df-74c10c234cc2"
    }
   },
   "source": [
    "#### Testing Model"
   ]
  },
  {
   "cell_type": "code",
   "execution_count": 8,
   "metadata": {
    "colab": {
     "base_uri": "https://localhost:8080/"
    },
    "id": "3V1e4c1hednN",
    "outputId": "b23e7dc1-ab32-4776-ae45-516d51b539b9"
   },
   "outputs": [
    {
     "name": "stdout",
     "output_type": "stream",
     "text": [
      "Found 36 images belonging to 4 classes.\n",
      "36\n",
      "WARNING:tensorflow:From <ipython-input-8-6e2e55ffea00>:8: Model.evaluate_generator (from tensorflow.python.keras.engine.training) is deprecated and will be removed in a future version.\n",
      "Instructions for updating:\n",
      "Please use Model.evaluate, which supports generators.\n",
      "WARNING:tensorflow:sample_weight modes were coerced from\n",
      "  ...\n",
      "    to  \n",
      "  ['...']\n",
      "36/36 [==============================] - 4s 98ms/step - loss: 1.4518 - accuracy: 0.6944\n",
      "Test loss: 1.4517992918974616\n",
      "Test accuracy: 0.6944444\n"
     ]
    }
   ],
   "source": [
    "test_datagen = ImageDataGenerator(rescale=1. / 255)\n",
    "\n",
    "eval_generator = test_datagen.flow_from_directory(TEST_DIR,target_size=IMAGE_SIZE,\n",
    "                                                  batch_size=1,shuffle=True,seed=42,class_mode=\"categorical\")\n",
    "eval_generator.reset()\n",
    "print(len(eval_generator))\n",
    "x = model.evaluate_generator(eval_generator,steps = np.ceil(len(eval_generator)),\n",
    "                           use_multiprocessing = False,verbose = 1,workers=1)\n",
    "print('Test loss:' , x[0])\n",
    "print('Test accuracy:',x[1])"
   ]
  },
  {
   "cell_type": "markdown",
   "metadata": {
    "id": "QbcQvl9GednN",
    "nbpresent": {
     "id": "66140980-2aa4-457f-b1df-74c10c234cc2"
    }
   },
   "source": [
    "## [10 points] TSNE Plot\n",
    "t-Distributed Stochastic Neighbor Embedding (t-SNE) is a widely used technique for dimensionality reduction that is particularly well suited for the visualization of high-dimensional datasets. After training is complete, extract features from a specific deep layer of your choice, use t-SNE to reduce the dimensionality of your extracted features to 2 dimensions and plot the resulting 2D features."
   ]
  },
  {
   "cell_type": "code",
   "execution_count": 9,
   "metadata": {
    "colab": {
     "base_uri": "https://localhost:8080/"
    },
    "id": "PESIhAruednN",
    "outputId": "1510fb67-2f1a-4844-b2ef-b632852c63b5"
   },
   "outputs": [
    {
     "name": "stdout",
     "output_type": "stream",
     "text": [
      "Found 270 images belonging to 4 classes.\n",
      "WARNING:tensorflow:From <ipython-input-9-aecca55e8567>:11: Model.predict_generator (from tensorflow.python.keras.engine.training) is deprecated and will be removed in a future version.\n",
      "Instructions for updating:\n",
      "Please use Model.predict, which supports generators.\n",
      "[t-SNE] Computing 91 nearest neighbors...\n",
      "[t-SNE] Indexed 270 samples in 0.020s...\n",
      "[t-SNE] Computed neighbors for 270 samples in 0.060s...\n",
      "[t-SNE] Computed conditional probabilities for sample 270 / 270\n",
      "[t-SNE] Mean sigma: 2.980482\n",
      "[t-SNE] KL divergence after 250 iterations with early exaggeration: 54.388519\n",
      "[t-SNE] KL divergence after 1000 iterations: 0.252044\n"
     ]
    }
   ],
   "source": [
    "from sklearn.manifold import TSNE\n",
    "\n",
    "intermediate_layer_model = tf.keras.models.Model(inputs=model.input,outputs=model.get_layer('dense_feature').output)\n",
    "\n",
    "tsne_data_generator = test_datagen.flow_from_directory(DATASET_PATH,target_size=IMAGE_SIZE,\n",
    "                                                       batch_size=1,shuffle=False,class_mode=\"categorical\")\n",
    "\n",
    "#raise NotImplementedError(\"Extract features from the tsne_data_generator and fit a t-SNE model for the features,\"\n",
    "#                          \"and plot the resulting 2D features of the four classes.\")\n",
    "\n",
    "X = intermediate_layer_model.predict_generator(tsne_data_generator)\n",
    "tsne = TSNE(n_components=2,verbose=1, perplexity=30,n_iter=1000, learning_rate=200, init='pca')\n",
    "X_tsne = tsne.fit_transform(X)\n",
    "\n",
    "tsne_x = X_tsne[:, 0]\n",
    "tsne_y = X_tsne[:, 1]"
   ]
  },
  {
   "cell_type": "code",
   "execution_count": 10,
   "metadata": {
    "colab": {
     "base_uri": "https://localhost:8080/",
     "height": 265
    },
    "id": "voDnbLKJ5lBn",
    "outputId": "551d2964-af19-4d1b-8667-aefd75d1744a"
   },
   "outputs": [
    {
     "data": {
      "image/png": "[encoded data removed]",
      "text/plain": [
       "<Figure size 432x288 with 1 Axes>"
      ]
     },
     "metadata": {
      "needs_background": "light"
     },
     "output_type": "display_data"
    }
   ],
   "source": [
    "name_dic = {0:'Covid 19', 1:'Normal', 2:'Pneumonia_bac', 3:'Pheumonia_vir'}\n",
    "color_dic = {0:'red', 1:'blue', 2:'green', 3:'yellow'}\n",
    "\n",
    "labels = tsne_data_generator.labels \n",
    "\n",
    "choose_0 = []\n",
    "choose_1 = []\n",
    "choose_2 = []\n",
    "choose_3 = []\n",
    "\n",
    "for i in range(len(tsne_x)):\n",
    "    if labels[i] == 0:\n",
    "        choose_0.append(i)\n",
    "    elif labels[i] == 1:\n",
    "        choose_1.append(i)\n",
    "    elif labels[i] == 2:\n",
    "        choose_2.append(i)\n",
    "    else:\n",
    "        choose_3.append(i)\n",
    "\n",
    "partial_tsne_x_0 = np.take(tsne_x, choose_0)\n",
    "partial_tsne_y_0 = np.take(tsne_y, choose_0)\n",
    "    \n",
    "plt.scatter(partial_tsne_x_0, partial_tsne_y_0, label=name_dic[0], color=color_dic[0], marker='o')\n",
    "\n",
    "partial_tsne_x_1 = np.take(tsne_x, choose_1)\n",
    "partial_tsne_y_1 = np.take(tsne_y, choose_1)\n",
    "    \n",
    "plt.scatter(partial_tsne_x_1, partial_tsne_y_1, label=name_dic[1], color=color_dic[1], marker='o')\n",
    "\n",
    "partial_tsne_x_2 = np.take(tsne_x, choose_2)\n",
    "partial_tsne_y_2 = np.take(tsne_y, choose_2)\n",
    "    \n",
    "plt.scatter(partial_tsne_x_2, partial_tsne_y_2, label=name_dic[2], color=color_dic[2], marker='o')\n",
    "\n",
    "partial_tsne_x_3 = np.take(tsne_x, choose_3)\n",
    "partial_tsne_y_3 = np.take(tsne_y, choose_3)\n",
    "    \n",
    "plt.scatter(partial_tsne_x_3, partial_tsne_y_3, label=name_dic[3], color=color_dic[3], marker='o')\n",
    "    \n",
    "plt.legend(loc='best')\n",
    "plt.show()"
   ]
  },
  {
   "cell_type": "code",
   "execution_count": 11,
   "metadata": {
    "id": "IsBAdFHt6DNf"
   },
   "outputs": [],
   "source": [
    "# save the model\n",
    "model.save('task2_new_VGG19.h5')"
   ]
  },
  {
   "cell_type": "markdown",
   "metadata": {
    "id": "Mn39Qli8ednN"
   },
   "source": [
    "<!-- ## Task 2: COVID-19 vs Normal vs Tertiary Pneumonia (Bacterial and Viral) -->"
   ]
  },
  {
   "cell_type": "markdown",
   "metadata": {
    "id": "_fMJrE1jednN",
    "nbpresent": {
     "id": "66140980-2aa4-457f-b1df-74c10c234cc2"
    }
   },
   "source": [
    "<!-- #### Renew Training Batch and Validation Batch -->"
   ]
  },
  {
   "cell_type": "markdown",
   "metadata": {
    "id": "s_fhfMGTednN",
    "nbpresent": {
     "id": "66140980-2aa4-457f-b1df-74c10c234cc2"
    }
   },
   "source": [
    "<!-- #### Renew Model -->"
   ]
  }
 ],
 "metadata": {
  "colab": {
   "name": "task2_MingchengXu_V0.ipynb",
   "provenance": []
  },
  "kernelspec": {
   "display_name": "Python 3",
   "language": "python",
   "name": "python3"
  },
  "language_info": {
   "codemirror_mode": {
    "name": "ipython",
    "version": 3
   },
   "file_extension": ".py",
   "mimetype": "text/x-python",
   "name": "python",
   "nbconvert_exporter": "python",
   "pygments_lexer": "ipython3",
   "version": "3.7.1"
  },
  "latex_envs": {
   "LaTeX_envs_menu_present": true,
   "autoclose": false,
   "autocomplete": true,
   "bibliofile": "biblio.bib",
   "cite_by": "apalike",
   "current_citInitial": 1,
   "eqLabelWithNumbers": true,
   "eqNumInitial": 1,
   "hotkeys": {
    "equation": "Ctrl-E",
    "itemize": "Ctrl-I"
   },
   "labels_anchors": false,
   "latex_user_defs": false,
   "report_style_numbering": false,
   "user_envs_cfg": false
  },
  "toc": {
   "base_numbering": 1,
   "nav_menu": {},
   "number_sections": true,
   "sideBar": true,
   "skip_h1_title": false,
   "title_cell": "Table of Contents",
   "title_sidebar": "Contents",
   "toc_cell": false,
   "toc_position": {},
   "toc_section_display": true,
   "toc_window_display": false
  },
  "varInspector": {
   "cols": {
    "lenName": 16,
    "lenType": 16,
    "lenVar": 40
   },
   "kernels_config": {
    "python": {
     "delete_cmd_postfix": "",
     "delete_cmd_prefix": "del ",
     "library": "var_list.py",
     "varRefreshCmd": "print(var_dic_list())"
    },
    "r": {
     "delete_cmd_postfix": ") ",
     "delete_cmd_prefix": "rm(",
     "library": "var_list.r",
     "varRefreshCmd": "cat(var_dic_list()) "
    }
   },
   "types_to_exclude": [
    "module",
    "function",
    "builtin_function_or_method",
    "instance",
    "_Feature"
   ],
   "window_display": false
  }
 },
 "nbformat": 4,
 "nbformat_minor": 1
}
